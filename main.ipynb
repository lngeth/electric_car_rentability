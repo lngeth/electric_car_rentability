{
 "cells": [
  {
   "cell_type": "code",
   "execution_count": 1,
   "metadata": {},
   "outputs": [],
   "source": [
    "import pandas as pd\n",
    "import numpy as np\n",
    "import matplotlib.pyplot as plt"
   ]
  },
  {
   "cell_type": "code",
   "execution_count": 2,
   "metadata": {},
   "outputs": [
    {
     "data": {
      "text/html": [
       "<div>\n",
       "<style scoped>\n",
       "    .dataframe tbody tr th:only-of-type {\n",
       "        vertical-align: middle;\n",
       "    }\n",
       "\n",
       "    .dataframe tbody tr th {\n",
       "        vertical-align: top;\n",
       "    }\n",
       "\n",
       "    .dataframe thead th {\n",
       "        text-align: right;\n",
       "    }\n",
       "</style>\n",
       "<table border=\"1\" class=\"dataframe\">\n",
       "  <thead>\n",
       "    <tr style=\"text-align: right;\">\n",
       "      <th></th>\n",
       "      <th>Type</th>\n",
       "      <th>City</th>\n",
       "      <th>Road (80km/h)</th>\n",
       "      <th>Highway (130km/h)</th>\n",
       "      <th>Car price</th>\n",
       "      <th>Capacity fuel</th>\n",
       "    </tr>\n",
       "    <tr>\n",
       "      <th>Name</th>\n",
       "      <th></th>\n",
       "      <th></th>\n",
       "      <th></th>\n",
       "      <th></th>\n",
       "      <th></th>\n",
       "      <th></th>\n",
       "    </tr>\n",
       "  </thead>\n",
       "  <tbody>\n",
       "    <tr>\n",
       "      <th>Peugeot e-208</th>\n",
       "      <td>Electric</td>\n",
       "      <td>12</td>\n",
       "      <td>15</td>\n",
       "      <td>21</td>\n",
       "      <td>20000</td>\n",
       "      <td>50</td>\n",
       "    </tr>\n",
       "    <tr>\n",
       "      <th>Citroën C3 II vti 1,6 120ch</th>\n",
       "      <td>gas</td>\n",
       "      <td>9</td>\n",
       "      <td>6</td>\n",
       "      <td>8</td>\n",
       "      <td>6500</td>\n",
       "      <td>50</td>\n",
       "    </tr>\n",
       "  </tbody>\n",
       "</table>\n",
       "</div>"
      ],
      "text/plain": [
       "                                 Type  City  Road (80km/h)  Highway (130km/h)  \\\n",
       "Name                                                                            \n",
       "Peugeot e-208                Electric    12             15                 21   \n",
       "Citroën C3 II vti 1,6 120ch       gas     9              6                  8   \n",
       "\n",
       "                             Car price  Capacity fuel  \n",
       "Name                                                   \n",
       "Peugeot e-208                    20000             50  \n",
       "Citroën C3 II vti 1,6 120ch       6500             50  "
      ]
     },
     "execution_count": 2,
     "metadata": {},
     "output_type": "execute_result"
    }
   ],
   "source": [
    "df_cars = pd.read_excel(\"./data/cars_consommation.xlsx\", sheet_name=\"car\", index_col=0)\n",
    "df_cars.head()"
   ]
  },
  {
   "cell_type": "code",
   "execution_count": 3,
   "metadata": {},
   "outputs": [
    {
     "data": {
      "text/html": [
       "<div>\n",
       "<style scoped>\n",
       "    .dataframe tbody tr th:only-of-type {\n",
       "        vertical-align: middle;\n",
       "    }\n",
       "\n",
       "    .dataframe tbody tr th {\n",
       "        vertical-align: top;\n",
       "    }\n",
       "\n",
       "    .dataframe thead th {\n",
       "        text-align: right;\n",
       "    }\n",
       "</style>\n",
       "<table border=\"1\" class=\"dataframe\">\n",
       "  <thead>\n",
       "    <tr style=\"text-align: right;\">\n",
       "      <th></th>\n",
       "      <th>Electric</th>\n",
       "      <th>gas</th>\n",
       "    </tr>\n",
       "  </thead>\n",
       "  <tbody>\n",
       "    <tr>\n",
       "      <th>2024-04-06</th>\n",
       "      <td>0.6</td>\n",
       "      <td>1.9</td>\n",
       "    </tr>\n",
       "  </tbody>\n",
       "</table>\n",
       "</div>"
      ],
      "text/plain": [
       "            Electric  gas\n",
       "2024-04-06       0.6  1.9"
      ]
     },
     "execution_count": 3,
     "metadata": {},
     "output_type": "execute_result"
    }
   ],
   "source": [
    "df_fuel = pd.read_excel(\"./data/cars_consommation.xlsx\", sheet_name=\"energy\", index_col=0)\n",
    "df_fuel.rename(columns={\n",
    "  'Electricity': 'Electric',\n",
    "  'Gas E10': 'gas'\n",
    "}, inplace=True)\n",
    "df_fuel.head()"
   ]
  },
  {
   "cell_type": "code",
   "execution_count": 4,
   "metadata": {},
   "outputs": [
    {
     "data": {
      "text/html": [
       "<div>\n",
       "<style scoped>\n",
       "    .dataframe tbody tr th:only-of-type {\n",
       "        vertical-align: middle;\n",
       "    }\n",
       "\n",
       "    .dataframe tbody tr th {\n",
       "        vertical-align: top;\n",
       "    }\n",
       "\n",
       "    .dataframe thead th {\n",
       "        text-align: right;\n",
       "    }\n",
       "</style>\n",
       "<table border=\"1\" class=\"dataframe\">\n",
       "  <thead>\n",
       "    <tr style=\"text-align: right;\">\n",
       "      <th></th>\n",
       "      <th>Type</th>\n",
       "      <th>City</th>\n",
       "      <th>Road (80km/h)</th>\n",
       "      <th>Highway (130km/h)</th>\n",
       "      <th>Car price</th>\n",
       "      <th>Capacity fuel</th>\n",
       "      <th>Price_full_tank</th>\n",
       "    </tr>\n",
       "    <tr>\n",
       "      <th>Name</th>\n",
       "      <th></th>\n",
       "      <th></th>\n",
       "      <th></th>\n",
       "      <th></th>\n",
       "      <th></th>\n",
       "      <th></th>\n",
       "      <th></th>\n",
       "    </tr>\n",
       "  </thead>\n",
       "  <tbody>\n",
       "    <tr>\n",
       "      <th>Peugeot e-208</th>\n",
       "      <td>Electric</td>\n",
       "      <td>12</td>\n",
       "      <td>15</td>\n",
       "      <td>21</td>\n",
       "      <td>20000</td>\n",
       "      <td>50</td>\n",
       "      <td>30.0</td>\n",
       "    </tr>\n",
       "    <tr>\n",
       "      <th>Citroën C3 II vti 1,6 120ch</th>\n",
       "      <td>gas</td>\n",
       "      <td>9</td>\n",
       "      <td>6</td>\n",
       "      <td>8</td>\n",
       "      <td>6500</td>\n",
       "      <td>50</td>\n",
       "      <td>95.0</td>\n",
       "    </tr>\n",
       "  </tbody>\n",
       "</table>\n",
       "</div>"
      ],
      "text/plain": [
       "                                 Type  City  Road (80km/h)  Highway (130km/h)  \\\n",
       "Name                                                                            \n",
       "Peugeot e-208                Electric    12             15                 21   \n",
       "Citroën C3 II vti 1,6 120ch       gas     9              6                  8   \n",
       "\n",
       "                             Car price  Capacity fuel  Price_full_tank  \n",
       "Name                                                                    \n",
       "Peugeot e-208                    20000             50             30.0  \n",
       "Citroën C3 II vti 1,6 120ch       6500             50             95.0  "
      ]
     },
     "execution_count": 4,
     "metadata": {},
     "output_type": "execute_result"
    }
   ],
   "source": [
    "# price full tank\n",
    "df_cars['Price_full_tank'] = df_cars.apply(lambda x: x['Capacity fuel'] * df_fuel['Electric'].iloc[0] if x['Type'] == 'Electric' else x['Capacity fuel'] * df_fuel['gas'].iloc[0], axis=1)\n",
    "df_cars.head()"
   ]
  },
  {
   "cell_type": "code",
   "execution_count": 5,
   "metadata": {},
   "outputs": [
    {
     "data": {
      "text/html": [
       "<div>\n",
       "<style scoped>\n",
       "    .dataframe tbody tr th:only-of-type {\n",
       "        vertical-align: middle;\n",
       "    }\n",
       "\n",
       "    .dataframe tbody tr th {\n",
       "        vertical-align: top;\n",
       "    }\n",
       "\n",
       "    .dataframe thead th {\n",
       "        text-align: right;\n",
       "    }\n",
       "</style>\n",
       "<table border=\"1\" class=\"dataframe\">\n",
       "  <thead>\n",
       "    <tr style=\"text-align: right;\">\n",
       "      <th></th>\n",
       "      <th>city</th>\n",
       "      <th>road</th>\n",
       "      <th>highway</th>\n",
       "      <th>Type</th>\n",
       "      <th>Capacity fuel</th>\n",
       "      <th>Price_full_tank</th>\n",
       "    </tr>\n",
       "    <tr>\n",
       "      <th>Name</th>\n",
       "      <th></th>\n",
       "      <th></th>\n",
       "      <th></th>\n",
       "      <th></th>\n",
       "      <th></th>\n",
       "      <th></th>\n",
       "    </tr>\n",
       "  </thead>\n",
       "  <tbody>\n",
       "    <tr>\n",
       "      <th>Peugeot e-208</th>\n",
       "      <td>416.666667</td>\n",
       "      <td>333.333333</td>\n",
       "      <td>238.095238</td>\n",
       "      <td>Electric</td>\n",
       "      <td>50</td>\n",
       "      <td>30.0</td>\n",
       "    </tr>\n",
       "    <tr>\n",
       "      <th>Citroën C3 II vti 1,6 120ch</th>\n",
       "      <td>555.555556</td>\n",
       "      <td>833.333333</td>\n",
       "      <td>625.000000</td>\n",
       "      <td>gas</td>\n",
       "      <td>50</td>\n",
       "      <td>95.0</td>\n",
       "    </tr>\n",
       "  </tbody>\n",
       "</table>\n",
       "</div>"
      ],
      "text/plain": [
       "                                   city        road     highway      Type  \\\n",
       "Name                                                                        \n",
       "Peugeot e-208                416.666667  333.333333  238.095238  Electric   \n",
       "Citroën C3 II vti 1,6 120ch  555.555556  833.333333  625.000000       gas   \n",
       "\n",
       "                             Capacity fuel  Price_full_tank  \n",
       "Name                                                         \n",
       "Peugeot e-208                           50             30.0  \n",
       "Citroën C3 II vti 1,6 120ch             50             95.0  "
      ]
     },
     "execution_count": 5,
     "metadata": {},
     "output_type": "execute_result"
    }
   ],
   "source": [
    "# distance made per road type\n",
    "drive = {\n",
    "  \"city\": \"City\",\n",
    "  \"road\": \"Road (80km/h)\",\n",
    "  \"highway\": \"Highway (130km/h)\"\n",
    "}\n",
    "distance_made = {}\n",
    "for k in drive:\n",
    "  distance_made[k] = (df_cars['Capacity fuel'] * 100) / df_cars[drive[k]]\n",
    "  \n",
    "df_distance_made = pd.DataFrame.from_dict(distance_made)\n",
    "merged = df_distance_made.merge(df_cars, left_index=True, right_index=True)\n",
    "df_distance_made[['Type', 'Capacity fuel', 'Price_full_tank']] = merged[['Type', 'Capacity fuel', 'Price_full_tank']]\n",
    "df_distance_made.head()\n"
   ]
  },
  {
   "cell_type": "markdown",
   "metadata": {},
   "source": [
    "## Distance"
   ]
  },
  {
   "cell_type": "code",
   "execution_count": 6,
   "metadata": {},
   "outputs": [
    {
     "data": {
      "text/html": [
       "<div>\n",
       "<style scoped>\n",
       "    .dataframe tbody tr th:only-of-type {\n",
       "        vertical-align: middle;\n",
       "    }\n",
       "\n",
       "    .dataframe tbody tr th {\n",
       "        vertical-align: top;\n",
       "    }\n",
       "\n",
       "    .dataframe thead th {\n",
       "        text-align: right;\n",
       "    }\n",
       "</style>\n",
       "<table border=\"1\" class=\"dataframe\">\n",
       "  <thead>\n",
       "    <tr style=\"text-align: right;\">\n",
       "      <th></th>\n",
       "      <th>city</th>\n",
       "      <th>road</th>\n",
       "      <th>highway</th>\n",
       "      <th>Type</th>\n",
       "      <th>Capacity fuel</th>\n",
       "      <th>Price_full_tank</th>\n",
       "      <th>conso_per_km_city</th>\n",
       "      <th>conso_per_km_road</th>\n",
       "      <th>conso_per_km_highway</th>\n",
       "    </tr>\n",
       "    <tr>\n",
       "      <th>Name</th>\n",
       "      <th></th>\n",
       "      <th></th>\n",
       "      <th></th>\n",
       "      <th></th>\n",
       "      <th></th>\n",
       "      <th></th>\n",
       "      <th></th>\n",
       "      <th></th>\n",
       "      <th></th>\n",
       "    </tr>\n",
       "  </thead>\n",
       "  <tbody>\n",
       "    <tr>\n",
       "      <th>Peugeot e-208</th>\n",
       "      <td>416.666667</td>\n",
       "      <td>333.333333</td>\n",
       "      <td>238.095238</td>\n",
       "      <td>Electric</td>\n",
       "      <td>50</td>\n",
       "      <td>30.0</td>\n",
       "      <td>0.072</td>\n",
       "      <td>0.090</td>\n",
       "      <td>0.126</td>\n",
       "    </tr>\n",
       "    <tr>\n",
       "      <th>Citroën C3 II vti 1,6 120ch</th>\n",
       "      <td>555.555556</td>\n",
       "      <td>833.333333</td>\n",
       "      <td>625.000000</td>\n",
       "      <td>gas</td>\n",
       "      <td>50</td>\n",
       "      <td>95.0</td>\n",
       "      <td>0.171</td>\n",
       "      <td>0.114</td>\n",
       "      <td>0.152</td>\n",
       "    </tr>\n",
       "  </tbody>\n",
       "</table>\n",
       "</div>"
      ],
      "text/plain": [
       "                                   city        road     highway      Type  \\\n",
       "Name                                                                        \n",
       "Peugeot e-208                416.666667  333.333333  238.095238  Electric   \n",
       "Citroën C3 II vti 1,6 120ch  555.555556  833.333333  625.000000       gas   \n",
       "\n",
       "                             Capacity fuel  Price_full_tank  \\\n",
       "Name                                                          \n",
       "Peugeot e-208                           50             30.0   \n",
       "Citroën C3 II vti 1,6 120ch             50             95.0   \n",
       "\n",
       "                             conso_per_km_city  conso_per_km_road  \\\n",
       "Name                                                                \n",
       "Peugeot e-208                            0.072              0.090   \n",
       "Citroën C3 II vti 1,6 120ch              0.171              0.114   \n",
       "\n",
       "                             conso_per_km_highway  \n",
       "Name                                               \n",
       "Peugeot e-208                               0.126  \n",
       "Citroën C3 II vti 1,6 120ch                 0.152  "
      ]
     },
     "execution_count": 6,
     "metadata": {},
     "output_type": "execute_result"
    }
   ],
   "source": [
    "trip_distance = 30 # in km\n",
    "round_trip = trip_distance * 2\n",
    "\n",
    "for k in drive:\n",
    "  col_name = \"conso_per_km_\" + k\n",
    "  df_distance_made[col_name] = df_distance_made.apply(lambda x: x['Price_full_tank'] / x[k], axis=1)\n",
    "  \n",
    "df_distance_made.head()"
   ]
  },
  {
   "cell_type": "markdown",
   "metadata": {},
   "source": [
    "Let's suppose we do 10 000km a year in city, how much will it cost in fuel?"
   ]
  },
  {
   "cell_type": "code",
   "execution_count": 10,
   "metadata": {},
   "outputs": [
    {
     "data": {
      "text/plain": [
       "Name\n",
       "Peugeot e-208                  1440.0\n",
       "Citroën C3 II vti 1,6 120ch    3420.0\n",
       "Name: conso_per_km_city, dtype: float64"
      ]
     },
     "execution_count": 10,
     "metadata": {},
     "output_type": "execute_result"
    }
   ],
   "source": [
    "nb_km = 20000\n",
    "nb_km * df_distance_made['conso_per_km_city']"
   ]
  },
  {
   "cell_type": "markdown",
   "metadata": {},
   "source": [
    "Let's compare for each type of road, how much electric car is better than thermal car.  \n",
    "**NB**: We consider the price of the car too."
   ]
  },
  {
   "cell_type": "code",
   "execution_count": 21,
   "metadata": {},
   "outputs": [
    {
     "data": {
      "image/png": "[encoded data removed]",
      "text/plain": [
       "<Figure size 432x288 with 1 Axes>"
      ]
     },
     "metadata": {
      "needs_background": "light"
     },
     "output_type": "display_data"
    }
   ],
   "source": [
    "tab_val = []\n",
    "for i in range(len(df_distance_made)):\n",
    "  tab_val.append([])\n",
    "\n",
    "km_unit = 1000\n",
    "for i in range(1, nb_km, km_unit):\n",
    "  df = i * df_distance_made['conso_per_km_city']\n",
    "  for j in range(len(df)):\n",
    "    tab_val[j].append(df.iloc[j])\n",
    "\n",
    "for i in range(len(tab_val)):\n",
    "  tab_val[i] += df_cars.iloc[i]['Car price']\n",
    "\n",
    "for i in range(len(tab_val)):\n",
    "  plt.plot(tab_val[i], label=df_cars.iloc[i].name)\n",
    "  plt.xlabel(f\"distance made in km ({km_unit})\")\n",
    "  plt.ylabel(\"money spent (car + fuel) in €\")\n",
    "  plt.legend()\n",
    "  plt.title(\"in City\")\n",
    "plt.show()"
   ]
  },
  {
   "cell_type": "markdown",
   "metadata": {},
   "source": [
    "We see that for a use of 20 000km a year, gasoline is still a better choice in terms of economy.  \n",
    "However, we can see that the slope of the line representing the gasoline car is higher than the electric's one, which means that at a certain point, electric will be less expensive."
   ]
  },
  {
   "cell_type": "code",
   "execution_count": 12,
   "metadata": {},
   "outputs": [],
   "source": [
    "# TODO\n",
    "# mathematic proof here\n",
    "# calculation of the slope, then breaking point"
   ]
  },
  {
   "cell_type": "code",
   "execution_count": null,
   "metadata": {},
   "outputs": [],
   "source": []
  }
 ],
 "metadata": {
  "kernelspec": {
   "display_name": "Python 3",
   "language": "python",
   "name": "python3"
  },
  "language_info": {
   "codemirror_mode": {
    "name": "ipython",
    "version": 3
   },
   "file_extension": ".py",
   "mimetype": "text/x-python",
   "name": "python",
   "nbconvert_exporter": "python",
   "pygments_lexer": "ipython3",
   "version": "3.8.8"
  }
 },
 "nbformat": 4,
 "nbformat_minor": 2
}
